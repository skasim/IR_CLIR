{
  "nbformat": 4,
  "nbformat_minor": 0,
  "metadata": {
    "colab": {
      "name": "fasttext_xlingual_embeddings.ipynb",
      "provenance": [],
      "collapsed_sections": [],
      "machine_shape": "hm"
    },
    "kernelspec": {
      "display_name": "Python 3",
      "name": "python3"
    },
    "language_info": {
      "name": "python"
    }
  },
  "cells": [
    {
      "cell_type": "code",
      "metadata": {
        "colab": {
          "base_uri": "https://localhost:8080/"
        },
        "id": "AGNLZpmGTgQz",
        "outputId": "440ee09f-6bbc-4acd-8e2c-48a7171eb64b"
      },
      "source": [
        "from google.colab import drive\n",
        "drive.mount('/content/drive')"
      ],
      "execution_count": null,
      "outputs": [
        {
          "output_type": "stream",
          "name": "stdout",
          "text": [
            "Drive already mounted at /content/drive; to attempt to forcibly remount, call drive.mount(\"/content/drive\", force_remount=True).\n"
          ]
        }
      ]
    },
    {
      "cell_type": "code",
      "metadata": {
        "colab": {
          "base_uri": "https://localhost:8080/"
        },
        "id": "nRZTrdh5ThOz",
        "outputId": "ab44c662-826b-451e-d008-70dc34663427"
      },
      "source": [
        "from google.colab import drive\n",
        "import os\n",
        "os.chdir(\"/content/drive/My Drive/Colab Notebooks/IR\")\n",
        "os.listdir()"
      ],
      "execution_count": null,
      "outputs": [
        {
          "output_type": "execute_result",
          "data": {
            "text/plain": [
              "['hi-en.dict',\n",
              " 'vecmap',\n",
              " 'data',\n",
              " 'wiki.hi.align.vec',\n",
              " 'wiki.en.align.vec',\n",
              " 'spa-en',\n",
              " 'hi-en.full.dict',\n",
              " 'hi-en-small-emb',\n",
              " 'hi_mapped.emb',\n",
              " 'fasttext_experiments.ipynb',\n",
              " 'en_mapped.emb']"
            ]
          },
          "metadata": {},
          "execution_count": 5
        }
      ]
    },
    {
      "cell_type": "code",
      "metadata": {
        "id": "PGp7Tb773dVG"
      },
      "source": [
        "# https://github.com/artetxem/vecmap\n",
        "# https://fasttext.cc/docs/en/crawl-vectors.html"
      ],
      "execution_count": null,
      "outputs": []
    },
    {
      "cell_type": "markdown",
      "metadata": {
        "id": "uIovGoh_nSWg"
      },
      "source": [
        "# SPANISH-ENGLISH MODEL"
      ]
    },
    {
      "cell_type": "code",
      "metadata": {
        "id": "tf6IxjfXl1r3"
      },
      "source": [
        "import gensim\n",
        "from gensim.models import Word2Vec, KeyedVectors\n",
        "import spacy"
      ],
      "execution_count": null,
      "outputs": []
    },
    {
      "cell_type": "code",
      "metadata": {
        "id": "70ZlYt4Sl2PO"
      },
      "source": [
        "!python -m spacy download en_core_web_sm"
      ],
      "execution_count": null,
      "outputs": []
    },
    {
      "cell_type": "code",
      "metadata": {
        "id": "SFTynn3IjyUp"
      },
      "source": [
        "nlp = spacy.load('en_core_web_sm', disable = ['ner', 'tagger', 'parser'])"
      ],
      "execution_count": null,
      "outputs": []
    },
    {
      "cell_type": "code",
      "metadata": {
        "id": "dhmFfafljyvK"
      },
      "source": [
        "\n",
        "def loadfile(filename):\n",
        "  with open(filename, 'r') as infile:\n",
        "    collection = [[token.text for token in nlp(line.lower()) if not token.is_punct] for line in infile]\n",
        "    return collection"
      ],
      "execution_count": null,
      "outputs": []
    },
    {
      "cell_type": "code",
      "metadata": {
        "colab": {
          "background_save": true
        },
        "id": "BEVT9hDej4NA"
      },
      "source": [
        "ensents = loadfile('data/eng.txt')\n",
        "essents = loadfile('data/spa.txt')\n",
        "enmodel = Word2Vec(sentences=ensents, size=100, window=5, min_count=2, sg=1, negative=8)\n",
        "enmodel.wv.save_word2vec_format('eng.w2v.model')\n",
        "esmodel = Word2Vec(sentences=essents, size=100, window=5, min_count=2, sg=1, negative=8)\n",
        "esmodel.wv.save_word2vec_format('spa.w2v.model')"
      ],
      "execution_count": null,
      "outputs": []
    },
    {
      "cell_type": "code",
      "metadata": {
        "colab": {
          "base_uri": "https://localhost:8080/"
        },
        "id": "i8jpcttnlPhO",
        "outputId": "3f8e7b50-83d0-4a0e-977d-77811b175433"
      },
      "source": [
        "!unzip spa.w2v.model.zip -d spa.w2v.model\n",
        "!unzip eng.w2v.model.zip -d eng.w2v.model"
      ],
      "execution_count": null,
      "outputs": [
        {
          "output_type": "stream",
          "name": "stdout",
          "text": [
            "Archive:  spa.w2v.model.zip\n",
            "  inflating: spa.w2v.model/spa.w2v.model  \n",
            "   creating: spa.w2v.model/__MACOSX/\n",
            "  inflating: spa.w2v.model/__MACOSX/._spa.w2v.model  \n",
            "Archive:  eng.w2v.model.zip\n",
            "  inflating: eng.w2v.model/eng.w2v.model  \n",
            "   creating: eng.w2v.model/__MACOSX/\n",
            "  inflating: eng.w2v.model/__MACOSX/._eng.w2v.model  \n"
          ]
        }
      ]
    },
    {
      "cell_type": "code",
      "metadata": {
        "id": "Ds4wINlmkSl6",
        "colab": {
          "base_uri": "https://localhost:8080/"
        },
        "outputId": "1eacdbc8-a1e8-48fa-c616-792b984067f5"
      },
      "source": [
        "!python3 vecmap/map_embeddings.py --supervised data/es-en.train.txt spa.w2v.model eng.w2v.model spa_mapped.emb eng_mapped.emb"
      ],
      "execution_count": null,
      "outputs": [
        {
          "output_type": "stream",
          "name": "stdout",
          "text": [
            "<_io.TextIOWrapper name='spa.w2v.model' mode='r' encoding='utf-8'>\n",
            "<_io.TextIOWrapper name='eng.w2v.model' mode='r' encoding='utf-8'>\n",
            "WARNING: OOV dictionary entry (sure - sure)\n",
            "WARNING: OOV dictionary entry (employment - employment)\n",
            "WARNING: OOV dictionary entry (lubina - bass)\n",
            "WARNING: OOV dictionary entry (cornwall - cornwall)\n",
            "WARNING: OOV dictionary entry (ocm - com)\n"
          ]
        }
      ]
    },
    {
      "cell_type": "code",
      "metadata": {
        "id": "Kr6hC5YKj4W8",
        "colab": {
          "base_uri": "https://localhost:8080/"
        },
        "outputId": "5418f552-397e-4402-9d59-bc226a1ea3d4"
      },
      "source": [
        "spa2eng = gensim.models.KeyedVectors.load_word2vec_format('spa_mapped.emb')\n",
        "eng2spa = gensim.models.KeyedVectors.load_word2vec_format('eng_mapped.emb')\n",
        "\n",
        "for word in ['playa', 'villa', 'perros', 'naufragio', 'islas', 'cantar', 'calles', 'naranjas', 'bomberos', 'escalera', 'nadó','frontera', 'pasaporte', 'fábrica']:\n",
        "    print (\"%s %s\" % (word, eng2spa.similar_by_vector(spa2eng[word])[0]))"
      ],
      "execution_count": null,
      "outputs": [
        {
          "output_type": "stream",
          "name": "stdout",
          "text": [
            "playa ('beach', 0.8319563865661621)\n",
            "villa ('village', 0.6976901292800903)\n",
            "perros ('dogs', 0.861842930316925)\n",
            "naufragio ('shipwreck', 0.7925400733947754)\n",
            "islas ('islands', 0.8338174819946289)\n",
            "cantar ('sing', 0.8648631572723389)\n",
            "calles ('streets', 0.8817466497421265)\n",
            "naranjas ('onion', 0.7858734130859375)\n",
            "bomberos ('firefighters', 0.7856603860855103)\n",
            "escalera ('roof', 0.7830263376235962)\n",
            "nadó ('talgar', 0.7015026807785034)\n",
            "frontera ('border', 0.9006616473197937)\n",
            "pasaporte ('passport', 0.8105301856994629)\n",
            "fábrica ('factory', 0.8499798774719238)\n"
          ]
        }
      ]
    },
    {
      "cell_type": "code",
      "metadata": {
        "id": "7MFs-en6j4g3",
        "colab": {
          "base_uri": "https://localhost:8080/"
        },
        "outputId": "e06aa006-3f74-4b6f-d336-a2fa2280bbac"
      },
      "source": [
        "!python3 vecmap/eval_translation.py spa-en/spa_mapped.emb spa-en/eng_mapped.emb -d data/es-en.train.txt --retrieval csls --cuda"
      ],
      "execution_count": null,
      "outputs": [
        {
          "output_type": "stream",
          "name": "stdout",
          "text": [
            "Coverage: 99.89%  Accuracy: 58.77%\n"
          ]
        }
      ]
    },
    {
      "cell_type": "markdown",
      "metadata": {
        "id": "54i0t3DnnY97"
      },
      "source": [
        "# HINDI-ENGLISH MODEL"
      ]
    },
    {
      "cell_type": "code",
      "metadata": {
        "id": "Isd48oSqj4ym",
        "colab": {
          "base_uri": "https://localhost:8080/"
        },
        "outputId": "ce605857-f718-49a5-eef6-163b98d1c866"
      },
      "source": [
        "!unzip Archive.zip -d embmodels"
      ],
      "execution_count": null,
      "outputs": [
        {
          "output_type": "stream",
          "name": "stdout",
          "text": [
            "Archive:  Archive.zip\n",
            "  inflating: embmodels/wiki.en.align.vec  \n",
            "   creating: embmodels/__MACOSX/\n",
            "  inflating: embmodels/__MACOSX/._wiki.en.align.vec  \n",
            "  inflating: embmodels/wiki.hi.align.vec  \n",
            "  inflating: embmodels/__MACOSX/._wiki.hi.align.vec  \n"
          ]
        }
      ]
    },
    {
      "cell_type": "code",
      "metadata": {
        "colab": {
          "base_uri": "https://localhost:8080/"
        },
        "id": "olF8JSQBn1au",
        "outputId": "944427d6-3647-49a3-aabe-a61eff1c74bb"
      },
      "source": [
        "!python3 vecmap/map_embeddings.py --semi_supervised hi-en.full.dict wiki.hi.align.vec wiki.en.align.vec hi_mapped.emb en_mapped.emb --cuda"
      ],
      "execution_count": null,
      "outputs": [
        {
          "output_type": "stream",
          "name": "stdout",
          "text": [
            "<_io.TextIOWrapper name='wiki.hi.align.vec' mode='r' encoding='utf-8'>\n",
            "<_io.TextIOWrapper name='wiki.en.align.vec' mode='r' encoding='utf-8'>\n",
            "tcmalloc: large alloc 3023249408 bytes == 0x563ad553c000 @  0x7f67a00e81e7 0x7f679db2846e 0x7f679db78c7b 0x7f679db7935f 0x7f679dc1b103 0x563ac7077544 0x563ac7077240 0x563ac70eb627 0x563ac70e59ee 0x563ac7078bda 0x563ac70e7737 0x563ac70e5ced 0x563ac7078bda 0x563ac70e6915 0x563ac70e59ee 0x563ac70e56f3 0x563ac71af4c2 0x563ac71af83d 0x563ac71af6e6 0x563ac7187163 0x563ac7186e0c 0x7f679eed2bf7 0x563ac7186cea\n",
            "tcmalloc: large alloc 3023249408 bytes == 0x563b8f362000 @  0x7f67a00e81e7 0x7f679db2846e 0x7f679db78c7b 0x7f679db7935f 0x7f679dc1b103 0x563ac6fb82eb 0x7f678f0a6a1c 0x7f678f0f231c 0x7f678f0aa16e 0x563ac7077544 0x563ac7077240 0x563ac70eb627 0x563ac70e59ee 0x563ac7078bda 0x563ac70ead00 0x563ac7078afa 0x563ac70e6915 0x563ac7078afa 0x563ac70ead00 0x563ac70e5ced 0x563ac7078bda 0x563ac70e6915 0x563ac70e59ee 0x563ac70e56f3 0x563ac71af4c2 0x563ac71af83d 0x563ac71af6e6 0x563ac7187163 0x563ac7186e0c 0x7f679eed2bf7 0x563ac7186cea\n"
          ]
        }
      ]
    },
    {
      "cell_type": "code",
      "metadata": {
        "colab": {
          "base_uri": "https://localhost:8080/"
        },
        "id": "Zix-lOkR-xez",
        "outputId": "bce2f40b-7839-4a37-fa04-9a3abd79926c"
      },
      "source": [
        "from gensim.models import KeyedVectors\n",
        "from gensim import models\n",
        "import gensim\n",
        "\n",
        "hin2eng = gensim.models.KeyedVectors.load_word2vec_format('hi_mapped.emb')\n",
        "eng2hin = gensim.models.KeyedVectors.load_word2vec_format('en_mapped.emb')\n",
        "\n",
        "for word in ['लाल', 'गैरी', 'मकान', 'मंदिर', 'सागरतट', 'गाना', 'सेब']:\n",
        "    print (\"%s %s\" % (word, eng2hin.similar_by_vector(hin2eng[word])[0]))"
      ],
      "execution_count": null,
      "outputs": [
        {
          "output_type": "stream",
          "name": "stdout",
          "text": [
            "लाल ('red', 0.6013443470001221)\n",
            "गैरी ('mcnaney', 0.5269891619682312)\n",
            "मकान ('cottage', 0.5818758010864258)\n",
            "मंदिर ('temple', 0.6957459449768066)\n",
            "सागरतट ('coastline', 0.5641415119171143)\n",
            "गाना ('song', 0.7094157934188843)\n",
            "सेब ('cherries', 0.4921698570251465)\n"
          ]
        }
      ]
    }
  ]
}