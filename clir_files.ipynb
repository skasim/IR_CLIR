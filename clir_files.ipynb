{
 "cells": [
  {
   "cell_type": "markdown",
   "id": "cee1efa1",
   "metadata": {},
   "source": [
    "## Data Files"
   ]
  },
  {
   "cell_type": "code",
   "execution_count": null,
   "id": "aef7d235",
   "metadata": {},
   "outputs": [],
   "source": [
    "cord19_topics_keyword = \"data/cord19.topics.keyword.txt\"\n",
    "cord19_topics_keyword_HINDI = \"data/hi/cord19.topics.keyword.HI.txt\"\n",
    "cord19_topics_questions = \"data/cord19.topics.question.txt\"\n",
    "cord19_topics_questions_HINDI = \"data/hi/cord19.topics.question.HI.txt\""
   ]
  },
  {
   "cell_type": "markdown",
   "id": "0fee8bf8",
   "metadata": {},
   "source": [
    "## Parsed Query Files: Keywords"
   ]
  },
  {
   "cell_type": "code",
   "execution_count": null,
   "id": "ee147c1f",
   "metadata": {},
   "outputs": [],
   "source": [
    "# parsed keywords\n",
    "cord19_topics_keyword_HIN2ENG_GT = \"data/hi/parsed/cord19.topics.keyword.hi2eng.gt.txt\"\n",
    "cord19_topics_keyword_HIN2ENG_EMB = \"data/hi/parsed/cord19.topics.keyword.hi2eng.emb.txt\"\n",
    "cord19_topics_keyword_HIN2ENG_EMB_SYNSET= \"data/hi/parsed/cord19.topics.keyword.hi2eng.emb_synset.txt\"\n",
    "cord19_topics_keyword_HIN2ENG_EMB_NO_OOV = \"data/hi/parsed/cord19.topics.keyword.hi2eng.emb_no_oov.txt\"\n",
    "cord19_topics_keyword_HIN2ENG_GT_EMB_SYNSET_TRANSLIT = \"data/hi/parsed/cord19.topics.keyword.hi2eng.gt.emb.synset.translit.txt\""
   ]
  },
  {
   "cell_type": "markdown",
   "id": "3ffbb2a9",
   "metadata": {},
   "source": [
    "## Parsed Query Files: Questions"
   ]
  },
  {
   "cell_type": "code",
   "execution_count": 2,
   "id": "792876fe",
   "metadata": {},
   "outputs": [],
   "source": [
    "# parsed questions\n",
    "cord19_topics_questions_HIN2ENG_GT = \"data/hi/parsed/cord19.topics.question.hi2eng.gt.txt\"\n",
    "cord19_topics_questions_HIN2ENG_EMB = \"data/hi/parsed/cord19.topics.question.hi2eng.emb.txt\"\n",
    "cord19_topics_questions_HIN2ENG_EMB_SYNSET = \"data/hi/parsed/cord19.topics.question.hi2eng.emb_synset.txt\"\n",
    "cord19_topics_questions_HIN2ENG_EMB_NO_OOV = \"data/hi/parsed/cord19.topics.question.hi2eng.emb_no_oov.txt\"\n",
    "cord19_topics_questions_HIN2ENG_GT_EMB_SYNSET_TRANSLIT = \"data/hi/parsed/cord19.topics.questions.hi2eng.gt.emb.synset.translit.txt\""
   ]
  }
 ],
 "metadata": {
  "kernelspec": {
   "display_name": "Python (hi2en-clir)",
   "language": "python",
   "name": "hi2en-clir"
  },
  "language_info": {
   "codemirror_mode": {
    "name": "ipython",
    "version": 3
   },
   "file_extension": ".py",
   "mimetype": "text/x-python",
   "name": "python",
   "nbconvert_exporter": "python",
   "pygments_lexer": "ipython3",
   "version": "3.8.12"
  }
 },
 "nbformat": 4,
 "nbformat_minor": 5
}
