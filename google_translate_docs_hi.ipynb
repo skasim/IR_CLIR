{
 "cells": [
  {
   "cell_type": "code",
   "execution_count": 3,
   "id": "7bb4a17f",
   "metadata": {},
   "outputs": [
    {
     "name": "stdout",
     "output_type": "stream",
     "text": [
      "docs processed: 0\n",
      "Total docs processed: 8\n",
      "Run time to create inverted index: 0m 0.0s\n",
      "Processing keyword topic queries...\n",
      "TF/IDF weights for each query term in first query\n",
      "  bird: 0.0\n",
      "  cat: 3.0\n",
      "  dog: 1.0\n",
      "All queries scored in: 0m 0.0s\t\n",
      "Keyword topic queries processing complete.\n",
      "\n",
      "Processing question topic queries...\n",
      "TF/IDF weights for each query term in first query\n",
      "  bird: 0.0\n",
      "  cat: 3.0\n",
      "  dog: 1.0\n",
      "All queries scored in: 0m 0.0s\t\n",
      "Question topic queries processing complete.\n",
      "\n",
      "Number of docs indexed: 8\n",
      "Collection size: 77\n",
      "Vocab size: 10\n",
      "inverted_index.bin size: 0.0 MB\n",
      "lexicon.pk size: 0.0 MB\n"
     ]
    },
    {
     "data": {
      "text/plain": [
       "'4.0.0-rc.1'"
      ]
     },
     "execution_count": 3,
     "metadata": {},
     "output_type": "execute_result"
    }
   ],
   "source": [
    "import re\n",
    "import import_ipynb\n",
    "import Ngram_Index_Generator as parent\n",
    "import googletrans\n",
    "googletrans.__version__ # must be '4.0.0-rc.1'\n"
   ]
  },
  {
   "cell_type": "code",
   "execution_count": 4,
   "id": "11b1814e",
   "metadata": {},
   "outputs": [
    {
     "name": "stdout",
     "output_type": "stream",
     "text": [
      "Translated(src=en, dest=hi, text=लोग कोरोनवायरस से कैसे मरते हैं, pronunciation=log koronavaayaras se kaise marate hain, extra_data=\"{'confiden...\")\n"
     ]
    }
   ],
   "source": [
    "from googletrans import Translator\n",
    "translator = Translator()\n",
    "hi = translator.translate('how do people die from the coronavirus', src='en', dest=\"hi\")\n",
    "print(hi)\n",
    "\n"
   ]
  },
  {
   "cell_type": "code",
   "execution_count": 5,
   "id": "604b4e7d",
   "metadata": {},
   "outputs": [
    {
     "data": {
      "text/plain": [
       "{'confidence': None,\n",
       " 'parts': [<googletrans.models.TranslatedPart at 0x124ff09d0>],\n",
       " 'origin_pronunciation': None,\n",
       " 'parsed': [[None, None, None, [[[0, [[[None, 38]], [True]]]], 38]],\n",
       "  [[[None,\n",
       "     'log koronavaayaras se kaise marate hain',\n",
       "     None,\n",
       "     None,\n",
       "     None,\n",
       "     [['लोग कोरोनवायरस से कैसे मरते हैं',\n",
       "       None,\n",
       "       None,\n",
       "       None,\n",
       "       [['लोग कोरोनवायरस से कैसे मरते हैं', [5]],\n",
       "        ['Coronavirus से लोग कैसे मर जाते हैं', [11]]]]]]],\n",
       "   'hi',\n",
       "   1,\n",
       "   'en',\n",
       "   ['how do people die from the coronavirus', 'en', 'hi', True]],\n",
       "  'en',\n",
       "  ['how do people die from the coronavirus',\n",
       "   None,\n",
       "   None,\n",
       "   None,\n",
       "   None,\n",
       "   None,\n",
       "   None,\n",
       "   None,\n",
       "   'en',\n",
       "   1,\n",
       "   ['Coronavirus disease (COVID-19)',\n",
       "    'Get the latest information',\n",
       "    'https://www.google.com/search?q=coronavirus&hl=en-US']]]}"
      ]
     },
     "execution_count": 5,
     "metadata": {},
     "output_type": "execute_result"
    }
   ],
   "source": [
    "hi.text\n",
    "hi.extra_data"
   ]
  },
  {
   "cell_type": "code",
   "execution_count": 6,
   "id": "c4658872",
   "metadata": {},
   "outputs": [],
   "source": [
    "# text_file = \"data/animal.txt\"\n",
    "# cord19_topics_keyword = \"data/animal.topics.txt\"\n",
    "# cord19_topics_questions = \"data/animal.topics.txt\"\n",
    "\n",
    "# text_file = \"data/cord19.txt\"\n",
    "cord19_topics_keyword = \"data/cord19.topics.keyword.txt\"\n",
    "cord19_topics_keyword_HINDI = \"data/hi/cord19.topics.keyword.HI.txt\"\n",
    "cord19_topics_questions = \"data/cord19.topics.question.txt\"\n",
    "cord19_topics_questions_HINDI = \"data/hi/cord19.topics.question.HI.txt\""
   ]
  },
  {
   "cell_type": "code",
   "execution_count": 7,
   "id": "cac1d29e",
   "metadata": {},
   "outputs": [],
   "source": [
    "def read_file(file_name):\n",
    "    \"\"\"\n",
    "    Reads file.\n",
    "    Parameters:\n",
    "        file_name (str): The filename for file to be read.\n",
    "    Returns:\n",
    "        content (str): contents of the file.\n",
    "    \"\"\"\n",
    "    with open(file_name) as file:\n",
    "        content = file.read()\n",
    "        return content"
   ]
  },
  {
   "cell_type": "code",
   "execution_count": 8,
   "id": "9402b206",
   "metadata": {},
   "outputs": [],
   "source": [
    "def capture_and_remove_doc_id(doc):\n",
    "    \"\"\"\n",
    "    Utilize regex to capture document id and remove document id from the text, so that it is not processed.\n",
    "    Parameters:\n",
    "        doc (str): A string.\n",
    "    Returns:\n",
    "        doc_id (str): The document id.\n",
    "        modified_doc (str): Document with the pattern <p id = xx> removed.\n",
    "    \"\"\"\n",
    "\n",
    "    pattern = r\"<Q ID=\\d+>\"\n",
    "    doc_id = re.findall(r\"\\d+\", doc)\n",
    "    modified_doc = re.sub(pattern, \"\", doc).strip(\"\\n\")\n",
    "    return doc_id[0], (re.sub(\" +\", \" \", modified_doc)).strip()\n",
    "\n",
    "assert capture_and_remove_doc_id(\"99 bottles on the wall\")[1] == \"99 bottles on the wall\"\n",
    "assert capture_and_remove_doc_id(\"<Q ID=2> 99 bottles on the wall\")[0][0] == \"2\"\n",
    "assert capture_and_remove_doc_id(\"<Q ID=2> 99 bottles on the wall\")[1] == \"99 bottles on the wall\""
   ]
  },
  {
   "cell_type": "code",
   "execution_count": 9,
   "id": "f4b28d47",
   "metadata": {},
   "outputs": [],
   "source": [
    "def convert_queries_from_src_to_dest_lang(filename, outfilename, src, dest):\n",
    "    \"\"\"\n",
    "    Given the query filename, process and tokenize query terms in the exact same manner as the documents.\n",
    "    Attributes:\n",
    "        filename (str): Filename for the query file.\n",
    "    Returns:\n",
    "        queries (dict(int, list[str])): Return a dict for which the key is an int value representing query_id and \n",
    "        value is a list of strings representing the terms for that query.\n",
    "    \"\"\"\n",
    "    content = parent.read_file(filename)\n",
    "    content = re.split(\"</Q>\", content)\n",
    "    queries_processed = 0\n",
    "    queries = {}\n",
    "    translator = Translator()\n",
    "    with open(outfilename, \"a\") as outfile:\n",
    "        for query in content:\n",
    "            validation_check = re.findall(r\"\\d+\", query)\n",
    "            try:\n",
    "                validation_check[0]\n",
    "                query_id, query = capture_and_remove_doc_id(query)\n",
    "                hi = translator.translate(query, src=src, dest=dest)\n",
    "                outfile.write(f\"<Q ID={query_id}>\\n{hi.text}\\n</Q>\\n\\n\")\n",
    "                queries_processed += 1\n",
    "            except IndexError:\n",
    "                pass \n",
    "    print(f\"translated {queries_processed} queries\")"
   ]
  },
  {
   "cell_type": "code",
   "execution_count": 10,
   "id": "fe9c57be",
   "metadata": {},
   "outputs": [
    {
     "name": "stdout",
     "output_type": "stream",
     "text": [
      "translated 50 queries\n"
     ]
    }
   ],
   "source": [
    "convert_queries_from_src_to_dest_lang(cord19_topics_keyword, cord19_topics_keyword_HINDI, src=\"en\", dest=\"hi\")"
   ]
  },
  {
   "cell_type": "code",
   "execution_count": 11,
   "id": "68c4f613",
   "metadata": {},
   "outputs": [
    {
     "name": "stdout",
     "output_type": "stream",
     "text": [
      "translated 50 queries\n"
     ]
    }
   ],
   "source": [
    "convert_queries_from_src_to_dest_lang(cord19_topics_questions, cord19_topics_questions_HINDI, src=\"en\", dest=\"hi\")"
   ]
  },
  {
   "cell_type": "code",
   "execution_count": 64,
   "id": "709a51fc",
   "metadata": {},
   "outputs": [],
   "source": [
    "import spacy\n",
    "\n",
    "nlp = spacy.blank('hi')\n",
    "\n",
    "doc = nlp(\"दोनों ने अर्धशतकीय साझेदारी निभाई. 10वें ओवर में कप्तान आज़म 39 रन बना कर आउट हुए. पहले विकेट के लिए उन्होंने रिज़वान के साथ 71 रनों की साझेदारी निभाई.\")"
   ]
  },
  {
   "cell_type": "code",
   "execution_count": 65,
   "id": "178a6f16",
   "metadata": {},
   "outputs": [
    {
     "name": "stdout",
     "output_type": "stream",
     "text": [
      "جانوروں\n",
      "کے\n",
      "مطالعے\n",
      "میں\n",
      "سارس\n",
      "-\n",
      "COV\n",
      "یا\n",
      "SARS\n",
      "-\n",
      "COV-2\n",
      "کے\n",
      "خلاف\n",
      "کیا\n",
      "منشیات\n",
      "فعال\n",
      "ہیں\n",
      "؟\n"
     ]
    }
   ],
   "source": [
    "for word in doc:\n",
    "    print(word)"
   ]
  },
  {
   "cell_type": "code",
   "execution_count": null,
   "id": "4f8d9afd",
   "metadata": {},
   "outputs": [],
   "source": []
  }
 ],
 "metadata": {
  "kernelspec": {
   "display_name": "base",
   "language": "python",
   "name": "base"
  },
  "language_info": {
   "codemirror_mode": {
    "name": "ipython",
    "version": 3
   },
   "file_extension": ".py",
   "mimetype": "text/x-python",
   "name": "python",
   "nbconvert_exporter": "python",
   "pygments_lexer": "ipython3",
   "version": "3.8.3"
  }
 },
 "nbformat": 4,
 "nbformat_minor": 5
}
