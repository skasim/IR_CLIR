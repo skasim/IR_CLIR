{
 "cells": [
  {
   "cell_type": "code",
   "execution_count": 64,
   "id": "1768f09a",
   "metadata": {},
   "outputs": [
    {
     "data": {
      "text/plain": [
       "'4.0.0-rc.1'"
      ]
     },
     "execution_count": 64,
     "metadata": {},
     "output_type": "execute_result"
    }
   ],
   "source": [
    "import googletrans\n",
    "googletrans.__version__ # must be '4.0.0-rc.1'\n"
   ]
  },
  {
   "cell_type": "code",
   "execution_count": 68,
   "id": "57d3f9ab",
   "metadata": {},
   "outputs": [
    {
     "ename": "AttributeError",
     "evalue": "'Translated' object has no attribute 'lower'",
     "output_type": "error",
     "traceback": [
      "\u001b[0;31m---------------------------------------------------------------------------\u001b[0m",
      "\u001b[0;31mAttributeError\u001b[0m                            Traceback (most recent call last)",
      "\u001b[0;32m/var/folders/94/w8hsf0tx2sj4m56_ybvwlrtc0000gn/T/ipykernel_7292/653859742.py\u001b[0m in \u001b[0;36m<module>\u001b[0;34m\u001b[0m\n\u001b[1;32m      2\u001b[0m \u001b[0mtranslator\u001b[0m \u001b[0;34m=\u001b[0m \u001b[0mTranslator\u001b[0m\u001b[0;34m(\u001b[0m\u001b[0;34m)\u001b[0m\u001b[0;34m\u001b[0m\u001b[0;34m\u001b[0m\u001b[0m\n\u001b[1;32m      3\u001b[0m \u001b[0mhi\u001b[0m \u001b[0;34m=\u001b[0m \u001b[0mtranslator\u001b[0m\u001b[0;34m.\u001b[0m\u001b[0mtranslate\u001b[0m\u001b[0;34m(\u001b[0m\u001b[0;34m'apple'\u001b[0m\u001b[0;34m,\u001b[0m \u001b[0msrc\u001b[0m\u001b[0;34m=\u001b[0m\u001b[0;34m'en'\u001b[0m\u001b[0;34m,\u001b[0m \u001b[0mdest\u001b[0m\u001b[0;34m=\u001b[0m\u001b[0;34m\"hi\"\u001b[0m\u001b[0;34m)\u001b[0m\u001b[0;34m\u001b[0m\u001b[0;34m\u001b[0m\u001b[0m\n\u001b[0;32m----> 4\u001b[0;31m \u001b[0mprint\u001b[0m\u001b[0;34m(\u001b[0m\u001b[0mhi\u001b[0m\u001b[0;34m.\u001b[0m\u001b[0mlower\u001b[0m\u001b[0;34m(\u001b[0m\u001b[0;34m)\u001b[0m\u001b[0;34m)\u001b[0m\u001b[0;34m\u001b[0m\u001b[0;34m\u001b[0m\u001b[0m\n\u001b[0m\u001b[1;32m      5\u001b[0m \u001b[0mprint\u001b[0m\u001b[0;34m(\u001b[0m\u001b[0mhi\u001b[0m\u001b[0;34m.\u001b[0m\u001b[0mtext\u001b[0m\u001b[0;34m)\u001b[0m\u001b[0;34m\u001b[0m\u001b[0;34m\u001b[0m\u001b[0m\n\u001b[1;32m      6\u001b[0m \u001b[0mprint\u001b[0m\u001b[0;34m(\u001b[0m\u001b[0mhi\u001b[0m\u001b[0;34m.\u001b[0m\u001b[0mextra_data\u001b[0m\u001b[0;34m[\u001b[0m\u001b[0;34m\"parsed\"\u001b[0m\u001b[0;34m]\u001b[0m\u001b[0;34m[\u001b[0m\u001b[0;36m1\u001b[0m\u001b[0;34m]\u001b[0m\u001b[0;34m[\u001b[0m\u001b[0;36m0\u001b[0m\u001b[0;34m]\u001b[0m\u001b[0;34m[\u001b[0m\u001b[0;36m0\u001b[0m\u001b[0;34m]\u001b[0m\u001b[0;34m[\u001b[0m\u001b[0;36m5\u001b[0m\u001b[0;34m]\u001b[0m\u001b[0;34m)\u001b[0m\u001b[0;34m\u001b[0m\u001b[0;34m\u001b[0m\u001b[0m\n",
      "\u001b[0;31mAttributeError\u001b[0m: 'Translated' object has no attribute 'lower'"
     ]
    }
   ],
   "source": [
    "from googletrans import Translator\n",
    "translator = Translator()\n",
    "hi = translator.translate('apple', src='en', dest=\"hi\")\n",
    "print(hi)\n",
    "print(hi.text)\n",
    "print(hi.extra_data[\"parsed\"][1][0][0][5])\n",
    "\n",
    "\n"
   ]
  },
  {
   "cell_type": "code",
   "execution_count": 2,
   "id": "dfa43c6c",
   "metadata": {},
   "outputs": [],
   "source": [
    "def read_file(file_name):\n",
    "    \"\"\"\n",
    "    Reads file.\n",
    "    Parameters:\n",
    "        file_name (str): The filename for file to be read.\n",
    "    Returns:\n",
    "        content (str): contents of the file.\n",
    "    \"\"\"\n",
    "    with open(file_name) as file:\n",
    "        content = file.readlines()\n",
    "        return content"
   ]
  },
  {
   "cell_type": "code",
   "execution_count": 124,
   "id": "66c651b3",
   "metadata": {},
   "outputs": [
    {
     "name": "stdout",
     "output_type": "stream",
     "text": [
      "12732\n"
     ]
    }
   ],
   "source": [
    "c = read_file(\"./dictionary/SCOWL-wl/words.txt\")\n",
    "print(len(c))"
   ]
  },
  {
   "cell_type": "code",
   "execution_count": null,
   "id": "f2ce2ca0",
   "metadata": {},
   "outputs": [],
   "source": []
  },
  {
   "cell_type": "code",
   "execution_count": 125,
   "id": "2c740165",
   "metadata": {},
   "outputs": [],
   "source": [
    "import time\n",
    "def create_dict(wordlistfile, destfile, src_lang, dest_lang):\n",
    "    wordlist = read_file(wordlistfile)\n",
    "    translator = Translator()\n",
    "    with open(destfile, \"a\") as outfile:\n",
    "        for idx, word in enumerate(wordlist):\n",
    "            try:\n",
    "                word = word.rstrip()\n",
    "                destword = translator.translate(word, src=src_lang, dest=dest_lang)\n",
    "                outfile.write(f\"{word} {destword.text}\\n\")\n",
    "                if idx % 500 == 0:\n",
    "                    print(f\"processed words: {idx}\")\n",
    "                    time.sleep(5)\n",
    "            except IndexError as e:\n",
    "                print(f\"{e} => [{word}]: {destword}\")\n"
   ]
  },
  {
   "cell_type": "code",
   "execution_count": 126,
   "id": "91c45b1d",
   "metadata": {},
   "outputs": [
    {
     "name": "stdout",
     "output_type": "stream",
     "text": [
      "processed words: 0\n",
      "processed words: 500\n",
      "processed words: 1000\n",
      "processed words: 1500\n",
      "processed words: 2000\n",
      "processed words: 2500\n",
      "processed words: 3000\n",
      "processed words: 3500\n",
      "processed words: 4000\n",
      "processed words: 4500\n",
      "processed words: 5000\n",
      "processed words: 5500\n",
      "processed words: 6000\n",
      "processed words: 6500\n",
      "processed words: 7000\n",
      "processed words: 7500\n",
      "processed words: 8000\n",
      "processed words: 8500\n",
      "processed words: 9000\n",
      "processed words: 9500\n",
      "processed words: 10000\n",
      "processed words: 10500\n",
      "processed words: 11000\n",
      "processed words: 11500\n",
      "processed words: 12000\n",
      "processed words: 12500\n"
     ]
    }
   ],
   "source": [
    "wordlistfile = \"./dictionary/SCOWL-wl/words.txt\"\n",
    "destdictfile = \"./dictionary/en-hi.txt\"\n",
    "create_dict(wordlistfile, destdictfile, \"en\", \"hi\")"
   ]
  },
  {
   "cell_type": "code",
   "execution_count": 13,
   "id": "73000d79",
   "metadata": {},
   "outputs": [],
   "source": [
    "# use muse file to generate a dict in vecamp format"
   ]
  },
  {
   "cell_type": "code",
   "execution_count": 3,
   "id": "07d33aaa",
   "metadata": {},
   "outputs": [],
   "source": [
    "muse_hi_file = \"./dictionary/hi-en_muse.txt\"\n",
    "muse = wordlist = read_file(muse_hi_file)"
   ]
  },
  {
   "cell_type": "code",
   "execution_count": 5,
   "id": "f6ed4af4",
   "metadata": {},
   "outputs": [],
   "source": [
    "vecmap_hi_en_dict = \"./dictionary/hi-en.full.dict\""
   ]
  },
  {
   "cell_type": "code",
   "execution_count": 6,
   "id": "92a5e0ae",
   "metadata": {},
   "outputs": [],
   "source": [
    "with open(vecmap_hi_en_dict, \"a\") as f:\n",
    "    for i, line in enumerate(muse):\n",
    "        words = line.split(\"\\t\")\n",
    "        hi = words[0]\n",
    "        en = words[1]\n",
    "        f.write(f\"{hi} {en}\")"
   ]
  },
  {
   "cell_type": "code",
   "execution_count": null,
   "id": "e62045bb",
   "metadata": {},
   "outputs": [],
   "source": []
  }
 ],
 "metadata": {
  "kernelspec": {
   "display_name": "base",
   "language": "python",
   "name": "base"
  },
  "language_info": {
   "codemirror_mode": {
    "name": "ipython",
    "version": 3
   },
   "file_extension": ".py",
   "mimetype": "text/x-python",
   "name": "python",
   "nbconvert_exporter": "python",
   "pygments_lexer": "ipython3",
   "version": "3.9.7"
  }
 },
 "nbformat": 4,
 "nbformat_minor": 5
}
