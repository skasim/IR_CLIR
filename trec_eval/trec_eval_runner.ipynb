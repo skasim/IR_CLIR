{
 "cells": [
  {
   "cell_type": "code",
   "execution_count": 9,
   "id": "23a33aa0",
   "metadata": {},
   "outputs": [],
   "source": [
    "import os, glob"
   ]
  },
  {
   "cell_type": "code",
   "execution_count": 10,
   "id": "c2130cbf",
   "metadata": {},
   "outputs": [],
   "source": [
    "termdir = \"../term/ranked\"\n",
    "fourgramdir = \"../4gram/ranked\"\n",
    "fivegramdir = \"../5gram/ranked\"\n",
    "alldirs = [termdir, fourgramdir, fivegramdir]\n",
    "outdir = \"clir_evaluated\"\n",
    "ground_truth = \"cord19.qrels\"\n",
    "\n",
    "dir2dir = {\n",
    "    termdir: \"term\",\n",
    "    fourgramdir: \"4gram\",\n",
    "    fivegramdir: \"5gram\"\n",
    "}"
   ]
  },
  {
   "cell_type": "code",
   "execution_count": 11,
   "id": "048393fb",
   "metadata": {},
   "outputs": [
    {
     "name": "stdout",
     "output_type": "stream",
     "text": [
      "Evaluating ../term/ranked/term_rankedlist_hi2en_emb_no_oov_keywords.txt\n",
      "Evaluating ../term/ranked/term_rankedlist_hi2en_gt_questions.txt\n",
      "Evaluating ../term/ranked/term_rankedlist_hi2en_emb_synset_keywords.txt\n",
      "Evaluating ../term/ranked/term_rankedlist_en_base_questions.txt\n",
      "Evaluating ../term/ranked/term_rankedlist_en_base_keywords.txt\n",
      "Evaluating ../term/ranked/term_rankedlist_hi2en_emb_questions.txt\n",
      "Evaluating ../term/ranked/term_rankedlist_hi2en_gt_emb_synset_translit_keywords.txt\n",
      "Evaluating ../term/ranked/term_rankedlist_hi2en_emb_no_oov_questions.txt\n",
      "Evaluating ../term/ranked/term_rankedlist_hi2en_emb_keywords.txt\n",
      "Evaluating ../term/ranked/term_rankedlist_hi2en_emb_synset_questions.txt\n",
      "Evaluating ../term/ranked/term_rankedlist_hi2en_gt_emb_synset_translit_questions.txt\n",
      "Evaluating ../term/ranked/term_rankedlist_hi2en_gt_keywords.txt\n",
      "Evaluating ../4gram/ranked/4gram_rankedlist_hi2en_gt_emb_synset_translit_questions.txt\n",
      "Evaluating ../4gram/ranked/4gram_rankedlist_hi2en_emb_synset_keywords.txt\n",
      "Evaluating ../4gram/ranked/4gram_rankedlist_hi2en_gt_questions.txt\n",
      "Evaluating ../4gram/ranked/4gram_rankedlist_hi2en_emb_no_oov_keywords.txt\n",
      "Evaluating ../4gram/ranked/4gram_rankedlist_hi2en_gt_emb_synset_translit_keywords.txt\n",
      "Evaluating ../4gram/ranked/4gram_rankedlist_en_base_questions.txt\n",
      "Evaluating ../4gram/ranked/4gram_rankedlist_hi2en_emb_questions.txt\n",
      "Evaluating ../4gram/ranked/4gram_rankedlist_hi2en_emb_synset_questions.txt\n",
      "Evaluating ../4gram/ranked/4gram_rankedlist_en_base_keywords.txt\n",
      "Evaluating ../4gram/ranked/4gram_rankedlist_hi2en_emb_no_oov_questions.txt\n",
      "Evaluating ../4gram/ranked/4gram_rankedlist_hi2en_emb_keywords.txt\n",
      "Evaluating ../4gram/ranked/4gram_rankedlist_hi2en_gt_keywords.txt\n",
      "Evaluating ../5gram/ranked/5gram_rankedlist_hi2en_gt_emb_synset_translit_keywords.txt\n",
      "Evaluating ../5gram/ranked/5gram_rankedlist_hi2en_gt_emb_synset_translit_questions.txt\n",
      "Evaluating ../5gram/ranked/5gram_rankedlist_hi2en_gt_questions.txt\n",
      "Evaluating ../5gram/ranked/5gram_rankedlist_en_base_keywords.txt\n",
      "Evaluating ../5gram/ranked/5gram_rankedlist_hi2en_emb_questions.txt\n",
      "Evaluating ../5gram/ranked/5gram_rankedlist_en_base_questions.txt\n",
      "Evaluating ../5gram/ranked/5gram_rankedlist_hi2en_emb_no_oov_keywords.txt\n",
      "Evaluating ../5gram/ranked/5gram_rankedlist_hi2en_gt_keywords.txt\n",
      "Evaluating ../5gram/ranked/5gram_rankedlist_hi2en_emb_synset_questions.txt\n",
      "Evaluating ../5gram/ranked/5gram_rankedlist_hi2en_emb_keywords.txt\n",
      "Evaluating ../5gram/ranked/5gram_rankedlist_hi2en_emb_no_oov_questions.txt\n",
      "Evaluating ../5gram/ranked/5gram_rankedlist_hi2en_emb_synset_keywords.txt\n"
     ]
    }
   ],
   "source": [
    "import subprocess\n",
    "\n",
    "for adir in alldirs:\n",
    "    for root, dirs, files in os.walk(adir):\n",
    "        for file in files:\n",
    "            if file.endswith(\".txt\"):\n",
    "                path = os.path.join(root, file)\n",
    "                print(f\"Evaluating {path}\")\n",
    "                p = subprocess.Popen([\"./trec_eval-9.0.7/trec_eval\", \"cord19.qrels\", f\"{path}\"], \n",
    "                                     stdout=subprocess.PIPE, stderr=subprocess.PIPE)\n",
    "                out, err = p.communicate()\n",
    "                with open(f\"clir_evaluated/{dir2dir[root]}/trec_{file}\", \"wb\") as outfile:\n",
    "                    outfile.write(out)"
   ]
  }
 ],
 "metadata": {
  "kernelspec": {
   "display_name": "base",
   "language": "python",
   "name": "base"
  },
  "language_info": {
   "codemirror_mode": {
    "name": "ipython",
    "version": 3
   },
   "file_extension": ".py",
   "mimetype": "text/x-python",
   "name": "python",
   "nbconvert_exporter": "python",
   "pygments_lexer": "ipython3",
   "version": "3.9.7"
  }
 },
 "nbformat": 4,
 "nbformat_minor": 5
}
